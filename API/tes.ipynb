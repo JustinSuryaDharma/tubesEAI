{
 "cells": [
  {
   "cell_type": "code",
   "execution_count": 26,
   "metadata": {},
   "outputs": [
    {
     "name": "stdout",
     "output_type": "stream",
     "text": [
      "{'data': [{'arriv_time': 'Thu, 25 Apr 2024 15:30:00 GMT', 'arrival_airport': 'John F. Kennedy International Airport', 'arrival_city': 'New York City', 'arrival_country': 'United States', 'departure_airport': 'Haneda Airport', 'departure_city': 'Tokyo', 'departure_country': 'Japan', 'dept_IATA': 'HND', 'dept_time': 'Thu, 25 Apr 2024 10:00:00 GMT', 'dest_IATA': 'JFK', 'harga': 6000000, 'jumlah_tiket': 210, 'kode_maskapai': 'JL', 'kode_penerbangan': 'TP005', 'kode_pesawat': 'JL202', 'max_luggage': 7, 'nama_maskapai': 'Japan Airlines'}], 'message': 'Data retrieved successfully', 'status': 'success', 'status_code': 200, 'timestamp': 'Wed, 24 Apr 2024 22:31:52 GMT'}\n"
     ]
    }
   ],
   "source": [
    "import requests\n",
    "departure='Japan'\n",
    "destination='United States'\n",
    "date='2024-04-25'\n",
    "\n",
    "url = \"http://localhost:5000/flights/from/{}/to/{}/on/{}\".format(departure, destination, date)\n",
    "\n",
    "headers = {\n",
    "    \"Authorization\": \"justin\",\n",
    "    \"Content-Type\": \"application/json\"\n",
    "}\n",
    "\n",
    "response = requests.get(url, headers=headers)\n",
    "\n",
    "if response.status_code == 200:\n",
    "    # Process the response data\n",
    "    print(response.json())\n",
    "    # Do something with the data\n",
    "else:\n",
    "    print(\"Error:\", response.status_code)\n"
   ]
  },
  {
   "cell_type": "code",
   "execution_count": 27,
   "metadata": {},
   "outputs": [],
   "source": [
    "data=response.json()\n",
    "data=data['data']\n",
    "data=data[0]"
   ]
  },
  {
   "cell_type": "code",
   "execution_count": 28,
   "metadata": {},
   "outputs": [
    {
     "data": {
      "text/plain": [
       "{'arriv_time': 'Thu, 25 Apr 2024 15:30:00 GMT',\n",
       " 'arrival_airport': 'John F. Kennedy International Airport',\n",
       " 'arrival_city': 'New York City',\n",
       " 'arrival_country': 'United States',\n",
       " 'departure_airport': 'Haneda Airport',\n",
       " 'departure_city': 'Tokyo',\n",
       " 'departure_country': 'Japan',\n",
       " 'dept_IATA': 'HND',\n",
       " 'dept_time': 'Thu, 25 Apr 2024 10:00:00 GMT',\n",
       " 'dest_IATA': 'JFK',\n",
       " 'harga': 6000000,\n",
       " 'jumlah_tiket': 210,\n",
       " 'kode_maskapai': 'JL',\n",
       " 'kode_penerbangan': 'TP005',\n",
       " 'kode_pesawat': 'JL202',\n",
       " 'max_luggage': 7,\n",
       " 'nama_maskapai': 'Japan Airlines'}"
      ]
     },
     "execution_count": 28,
     "metadata": {},
     "output_type": "execute_result"
    }
   ],
   "source": [
    "data"
   ]
  },
  {
   "cell_type": "code",
   "execution_count": null,
   "metadata": {},
   "outputs": [],
   "source": []
  }
 ],
 "metadata": {
  "kernelspec": {
   "display_name": "Python 3",
   "language": "python",
   "name": "python3"
  },
  "language_info": {
   "codemirror_mode": {
    "name": "ipython",
    "version": 3
   },
   "file_extension": ".py",
   "mimetype": "text/x-python",
   "name": "python",
   "nbconvert_exporter": "python",
   "pygments_lexer": "ipython3",
   "version": "3.10.4"
  }
 },
 "nbformat": 4,
 "nbformat_minor": 2
}
