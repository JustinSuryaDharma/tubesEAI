{
 "cells": [
  {
   "cell_type": "code",
   "execution_count": 7,
   "metadata": {},
   "outputs": [
    {
     "name": "stdout",
     "output_type": "stream",
     "text": [
      "Error: 500\n"
     ]
    }
   ],
   "source": [
    "        import requests\n",
    "        departure='Japan'\n",
    "        destination='United States'\n",
    "        date='2024-04-25'\n",
    "        if departure and destination and date:\n",
    "            url = \"http://localhost:5000/flights/from/{}/to/{}/on/{}\".format(departure, destination, date)\n",
    "            headers = {\n",
    "                \"Authorization\": \"justin\",\n",
    "                \"Content-Type\": \"application/json\"\n",
    "            }\n",
    "            response = requests.get(url, headers=headers)\n",
    "\n",
    "            if response.status_code == 200:\n",
    "                # Process the response data\n",
    "                data=response.json()\n",
    "                data=data['data']\n",
    "                data=data[0]\n",
    "                print(data)\n",
    "                # Do something with the data\n",
    "            else:\n",
    "                print(\"Error:\", response.status_code)"
   ]
  },
  {
   "cell_type": "code",
   "execution_count": 5,
   "metadata": {},
   "outputs": [
    {
     "name": "stdout",
     "output_type": "stream",
     "text": [
      "[{'arriv_time': 'Thu, 25 Apr 2024 15:30:00 GMT', 'arrival_airport': 'John F. Kennedy International Airport', 'arrival_city': 'New York City', 'arrival_country': 'United States', 'departure_airport': 'Haneda Airport', 'departure_city': 'Tokyo', 'departure_country': 'Japan', 'dept_IATA': 'HND', 'dept_time': 'Thu, 25 Apr 2024 10:00:00 GMT', 'dest_IATA': 'JFK', 'harga': 6000000, 'jumlah_tiket': 210, 'kode_maskapai': 'JL', 'kode_penerbangan': 'TP005', 'kode_pesawat': 'JL202', 'max_luggage': 7, 'nama_maskapai': 'Japan Airlines'}]\n"
     ]
    }
   ],
   "source": [
    "data=response.json()\n",
    "data=data['data']\n",
    "print(data)"
   ]
  },
  {
   "cell_type": "code",
   "execution_count": 6,
   "metadata": {},
   "outputs": [
    {
     "name": "stdout",
     "output_type": "stream",
     "text": [
      "Japan Airlines\n"
     ]
    }
   ],
   "source": [
    "for i in data:\n",
    "    print (i['nama_maskapai'])"
   ]
  },
  {
   "cell_type": "code",
   "execution_count": null,
   "metadata": {},
   "outputs": [],
   "source": []
  }
 ],
 "metadata": {
  "kernelspec": {
   "display_name": "Python 3",
   "language": "python",
   "name": "python3"
  },
  "language_info": {
   "codemirror_mode": {
    "name": "ipython",
    "version": 3
   },
   "file_extension": ".py",
   "mimetype": "text/x-python",
   "name": "python",
   "nbconvert_exporter": "python",
   "pygments_lexer": "ipython3",
   "version": "3.10.4"
  }
 },
 "nbformat": 4,
 "nbformat_minor": 2
}
