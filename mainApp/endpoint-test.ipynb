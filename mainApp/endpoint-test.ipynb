{
 "cells": [
  {
   "cell_type": "code",
   "execution_count": null,
   "metadata": {},
   "outputs": [],
   "source": [
    "import requests\n",
    "\n",
    "def get_coordinates(city_name):\n",
    "    city_name = city_name.lower()\n",
    "    url_city = f\"https://world-citiies-api.p.rapidapi.com/cities/{city_name}\"\n",
    "    headers_city = {\n",
    "      \"X-RapidAPI-Key\": \"3350ea7d8bmsh19df7418eed4043p1b3356jsnc8494bf9670d\",\n",
    "      \"X-RapidAPI-Host\": \"world-citiies-api.p.rapidapi.com\"\n",
    "    }\n",
    "    response_city = requests.get(url_city, headers=headers_city)\n",
    "    data = response_city.json()\n",
    "    if data:\n",
    "      coordinates = data[0]['Coordinates']\n",
    "      lat, lon = map(float, coordinates.split(','))\n",
    "      return lat, lon\n",
    "    else:\n",
    "      raise Exception(f\"City {city_name} not found\")\n",
    "\n",
    "def get_local_time(lat, lon):\n",
    "    url_time = \"https://geocodeapi.p.rapidapi.com/GetNearestCities\"\n",
    "\n",
    "    querystring = {\"latitude\":str(lat),\"longitude\":str(lon),\"range\":\"0\"}\n",
    "\n",
    "    headers = {\n",
    "      \"X-RapidAPI-Key\": \"3350ea7d8bmsh19df7418eed4043p1b3356jsnc8494bf9670d\",\n",
    "      \"X-RapidAPI-Host\": \"geocodeapi.p.rapidapi.com\"\n",
    "    }\n",
    "\n",
    "    response_time = requests.get(url_time, headers=headers, params=querystring)\n",
    "    return response_time.json()\n",
    "\n",
    "def get_weather(lat, lon):\n",
    "    url = \"https://air-quality-by-api-ninjas.p.rapidapi.com/v1/airquality\"\n",
    "    querystring = {\"lat\":str(lat),\"lon\":str(lon)}\n",
    "    headers = {\n",
    "      \"X-RapidAPI-Key\": \"3350ea7d8bmsh19df7418eed4043p1b3356jsnc8494bf9670d\",\n",
    "      \"X-RapidAPI-Host\": \"air-quality-by-api-ninjas.p.rapidapi.com\"\n",
    "    }\n",
    "    response_air = requests.get(url, headers=headers, params=querystring)\n",
    "    return response_air.json()\n"
   ]
  }
 ],
 "metadata": {
  "language_info": {
   "name": "python"
  }
 },
 "nbformat": 4,
 "nbformat_minor": 2
}
