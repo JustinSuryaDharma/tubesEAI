{
 "cells": [
  {
   "cell_type": "code",
   "execution_count": 3,
   "metadata": {},
   "outputs": [
    {
     "ename": "ModuleNotFoundError",
     "evalue": "No module named 'flask'",
     "output_type": "error",
     "traceback": [
      "\u001b[1;31m---------------------------------------------------------------------------\u001b[0m",
      "\u001b[1;31mModuleNotFoundError\u001b[0m                       Traceback (most recent call last)",
      "Input \u001b[1;32mIn [3]\u001b[0m, in \u001b[0;36m<cell line: 1>\u001b[1;34m()\u001b[0m\n\u001b[1;32m----> 1\u001b[0m \u001b[38;5;28;01mfrom\u001b[39;00m \u001b[38;5;21;01mflask\u001b[39;00m \u001b[38;5;28;01mimport\u001b[39;00m Flask, jsonify, request\n\u001b[0;32m      2\u001b[0m \u001b[38;5;28;01mimport\u001b[39;00m \u001b[38;5;21;01mrequests\u001b[39;00m\n\u001b[0;32m      4\u001b[0m \u001b[38;5;28;01mdef\u001b[39;00m \u001b[38;5;21mfiltered_attr\u001b[39m(city):\n",
      "\u001b[1;31mModuleNotFoundError\u001b[0m: No module named 'flask'"
     ]
    }
   ],
   "source": [
    "from flask import Flask, jsonify, request\n",
    "import requests\n",
    "\n",
    "def filtered_attr(city):\n",
    "  response_attraction = requests.get(f'http://localhost:3000/filterattractions?location={city}')\n",
    "  return response_attraction.json()\n",
    "\n",
    "# get article\n",
    "def filtered_article(city):\n",
    "  response_article = requests.get(f'http://127.0.0.1:5000/filterart?location={city}')\n",
    "  return response_article.json()\n",
    "\n",
    "# app routes\n",
    "def get_attraction():\n",
    "    city = request.args.get('location')\n",
    "    if city:\n",
    "        attraction_info = filtered_attr(city)\n",
    "        article_info = filtered_article(city)\n",
    "        combined_info = {\n",
    "          \"attraction\": attraction_info,\n",
    "          \"articles\": article_info\n",
    "        }\n",
    "        return jsonify(combined_info)\n",
    "    else:\n",
    "        return jsonify({'error': 'Location parameter is required'}), 400\n",
    "  \n",
    "get_attraction()"
   ]
  }
 ],
 "metadata": {
  "kernelspec": {
   "display_name": "Python 3",
   "language": "python",
   "name": "python3"
  },
  "language_info": {
   "codemirror_mode": {
    "name": "ipython",
    "version": 3
   },
   "file_extension": ".py",
   "mimetype": "text/x-python",
   "name": "python",
   "nbconvert_exporter": "python",
   "pygments_lexer": "ipython3",
   "version": "3.10.11"
  }
 },
 "nbformat": 4,
 "nbformat_minor": 2
}
